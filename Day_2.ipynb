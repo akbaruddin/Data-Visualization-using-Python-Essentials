{
  "nbformat": 4,
  "nbformat_minor": 0,
  "metadata": {
    "colab": {
      "name": "Day 2.ipynb",
      "provenance": [],
      "authorship_tag": "ABX9TyP58WkaoNs3XWcjz1OkiUcA",
      "include_colab_link": true
    },
    "kernelspec": {
      "name": "python3",
      "display_name": "Python 3"
    },
    "language_info": {
      "name": "python"
    }
  },
  "cells": [
    {
      "cell_type": "markdown",
      "metadata": {
        "id": "view-in-github",
        "colab_type": "text"
      },
      "source": [
        "<a href=\"https://colab.research.google.com/github/akbaruddin/Data-Visualization-using-Python-Essentials/blob/main/Day_2.ipynb\" target=\"_parent\"><img src=\"https://colab.research.google.com/assets/colab-badge.svg\" alt=\"Open In Colab\"/></a>"
      ]
    },
    {
      "cell_type": "code",
      "metadata": {
        "id": "P2MEEo_AEik2"
      },
      "source": [
        "import numpy as np\n",
        "import pandas as pd\n",
        "import matplotlib.pyplot as plt\n",
        "import matplotlib as mpl\n",
        "import seaborn as sns\n",
        "%matplotlib inline"
      ],
      "execution_count": 2,
      "outputs": []
    },
    {
      "cell_type": "code",
      "metadata": {
        "id": "x7gh9U-cE5vH"
      },
      "source": [
        "# Question 1\n",
        "x = [1,3,4,5,6,7,9]\n",
        "y = [4,7,2,4,7,8,3]\n",
        "x2 = [2,4,6,8,10]\n",
        "y2 = [5,6,2,6,2]"
      ],
      "execution_count": 3,
      "outputs": []
    },
    {
      "cell_type": "code",
      "metadata": {
        "colab": {
          "base_uri": "https://localhost:8080/",
          "height": 298
        },
        "id": "g3Ff5stJFBFB",
        "outputId": "3d851fc0-7c23-47ec-9349-0314cfe1043d"
      },
      "source": [
        "plt.bar(x,y,label='X-Y compare',color='r')\n",
        "plt.bar(x2,y2,label='X2-Y2 compare',color='b')\n",
        "plt.xlabel(\"X AXIS\")\n",
        "plt.ylabel(\"Y AXIS\")\n",
        "plt.legend()"
      ],
      "execution_count": 4,
      "outputs": [
        {
          "output_type": "execute_result",
          "data": {
            "text/plain": [
              "<matplotlib.legend.Legend at 0x7efe8dad7490>"
            ]
          },
          "metadata": {
            "tags": []
          },
          "execution_count": 4
        },
        {
          "output_type": "display_data",
          "data": {
            "image/png": "[encoded data removed]",
            "text/plain": [
              "<Figure size 432x288 with 1 Axes>"
            ]
          },
          "metadata": {
            "tags": [],
            "needs_background": "light"
          }
        }
      ]
    },
    {
      "cell_type": "code",
      "metadata": {
        "colab": {
          "base_uri": "https://localhost:8080/",
          "height": 363
        },
        "id": "p_ud3tXJFIqk",
        "outputId": "6e9fa79a-f793-42e8-ba7a-f0ec0252184e"
      },
      "source": [
        "from numpy.random import randn,randint\n",
        "x = pd.DataFrame(randn(10,4),columns=['a','b','c','d'])\n",
        "x"
      ],
      "execution_count": 5,
      "outputs": [
        {
          "output_type": "execute_result",
          "data": {
            "text/html": [
              "<div>\n",
              "<style scoped>\n",
              "    .dataframe tbody tr th:only-of-type {\n",
              "        vertical-align: middle;\n",
              "    }\n",
              "\n",
              "    .dataframe tbody tr th {\n",
              "        vertical-align: top;\n",
              "    }\n",
              "\n",
              "    .dataframe thead th {\n",
              "        text-align: right;\n",
              "    }\n",
              "</style>\n",
              "<table border=\"1\" class=\"dataframe\">\n",
              "  <thead>\n",
              "    <tr style=\"text-align: right;\">\n",
              "      <th></th>\n",
              "      <th>a</th>\n",
              "      <th>b</th>\n",
              "      <th>c</th>\n",
              "      <th>d</th>\n",
              "    </tr>\n",
              "  </thead>\n",
              "  <tbody>\n",
              "    <tr>\n",
              "      <th>0</th>\n",
              "      <td>1.168109</td>\n",
              "      <td>0.574518</td>\n",
              "      <td>1.184916</td>\n",
              "      <td>-0.221291</td>\n",
              "    </tr>\n",
              "    <tr>\n",
              "      <th>1</th>\n",
              "      <td>0.242159</td>\n",
              "      <td>-0.942793</td>\n",
              "      <td>0.461833</td>\n",
              "      <td>-1.884499</td>\n",
              "    </tr>\n",
              "    <tr>\n",
              "      <th>2</th>\n",
              "      <td>0.377254</td>\n",
              "      <td>2.093111</td>\n",
              "      <td>-0.306826</td>\n",
              "      <td>0.421464</td>\n",
              "    </tr>\n",
              "    <tr>\n",
              "      <th>3</th>\n",
              "      <td>-0.057242</td>\n",
              "      <td>0.308646</td>\n",
              "      <td>0.821409</td>\n",
              "      <td>-0.396705</td>\n",
              "    </tr>\n",
              "    <tr>\n",
              "      <th>4</th>\n",
              "      <td>-0.814108</td>\n",
              "      <td>0.968316</td>\n",
              "      <td>0.910058</td>\n",
              "      <td>0.124786</td>\n",
              "    </tr>\n",
              "    <tr>\n",
              "      <th>5</th>\n",
              "      <td>-0.276803</td>\n",
              "      <td>-1.160960</td>\n",
              "      <td>0.632488</td>\n",
              "      <td>-0.059215</td>\n",
              "    </tr>\n",
              "    <tr>\n",
              "      <th>6</th>\n",
              "      <td>2.262444</td>\n",
              "      <td>-0.787622</td>\n",
              "      <td>-0.345748</td>\n",
              "      <td>0.629432</td>\n",
              "    </tr>\n",
              "    <tr>\n",
              "      <th>7</th>\n",
              "      <td>0.239710</td>\n",
              "      <td>0.053363</td>\n",
              "      <td>-0.737529</td>\n",
              "      <td>-0.152913</td>\n",
              "    </tr>\n",
              "    <tr>\n",
              "      <th>8</th>\n",
              "      <td>0.727576</td>\n",
              "      <td>-0.137247</td>\n",
              "      <td>-2.019149</td>\n",
              "      <td>-0.264916</td>\n",
              "    </tr>\n",
              "    <tr>\n",
              "      <th>9</th>\n",
              "      <td>0.741042</td>\n",
              "      <td>-0.823051</td>\n",
              "      <td>1.198946</td>\n",
              "      <td>0.228375</td>\n",
              "    </tr>\n",
              "  </tbody>\n",
              "</table>\n",
              "</div>"
            ],
            "text/plain": [
              "          a         b         c         d\n",
              "0  1.168109  0.574518  1.184916 -0.221291\n",
              "1  0.242159 -0.942793  0.461833 -1.884499\n",
              "2  0.377254  2.093111 -0.306826  0.421464\n",
              "3 -0.057242  0.308646  0.821409 -0.396705\n",
              "4 -0.814108  0.968316  0.910058  0.124786\n",
              "5 -0.276803 -1.160960  0.632488 -0.059215\n",
              "6  2.262444 -0.787622 -0.345748  0.629432\n",
              "7  0.239710  0.053363 -0.737529 -0.152913\n",
              "8  0.727576 -0.137247 -2.019149 -0.264916\n",
              "9  0.741042 -0.823051  1.198946  0.228375"
            ]
          },
          "metadata": {
            "tags": []
          },
          "execution_count": 5
        }
      ]
    },
    {
      "cell_type": "code",
      "metadata": {
        "colab": {
          "base_uri": "https://localhost:8080/",
          "height": 284
        },
        "id": "4BTUtY13FNmb",
        "outputId": "5e990065-dc5d-42cf-9ebb-1b429c9408ac"
      },
      "source": [
        "plt.bar(x.a,x.b,width=0.2)"
      ],
      "execution_count": 6,
      "outputs": [
        {
          "output_type": "execute_result",
          "data": {
            "text/plain": [
              "<BarContainer object of 10 artists>"
            ]
          },
          "metadata": {
            "tags": []
          },
          "execution_count": 6
        },
        {
          "output_type": "display_data",
          "data": {
            "image/png": "[encoded data removed]",
            "text/plain": [
              "<Figure size 432x288 with 1 Axes>"
            ]
          },
          "metadata": {
            "tags": [],
            "needs_background": "light"
          }
        }
      ]
    }
  ]
}